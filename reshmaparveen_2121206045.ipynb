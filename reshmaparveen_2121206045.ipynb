{
  "nbformat": 4,
  "nbformat_minor": 0,
  "metadata": {
    "colab": {
      "provenance": [],
      "authorship_tag": "ABX9TyN+luDtsFoDLxxNag0p4jff",
      "include_colab_link": true
    },
    "kernelspec": {
      "name": "python3",
      "display_name": "Python 3"
    },
    "language_info": {
      "name": "python"
    }
  },
  "cells": [
    {
      "cell_type": "markdown",
      "metadata": {
        "id": "view-in-github",
        "colab_type": "text"
      },
      "source": [
        "<a href=\"https://colab.research.google.com/github/reshmaparveen6/reshmaparveen_2121206045_aiml/blob/main/reshmaparveen_2121206045.ipynb\" target=\"_parent\"><img src=\"https://colab.research.google.com/assets/colab-badge.svg\" alt=\"Open In Colab\"/></a>"
      ]
    },
    {
      "cell_type": "code",
      "execution_count": null,
      "metadata": {
        "colab": {
          "base_uri": "https://localhost:8080/"
        },
        "id": "twnoSqG5-hJa",
        "outputId": "997ae9b3-0097-439d-e236-a315f2342f0b"
      },
      "outputs": [
        {
          "output_type": "stream",
          "name": "stdout",
          "text": [
            "Enter the number: 43\n",
            "The reverse number is = 34\n"
          ]
        }
      ],
      "source": [
        "#to find the reverse of a number only by using arithmetic operators\n",
        "rev = 0\n",
        "base = 1\n",
        "def findReverse(num):\n",
        "   global rev #function definition\n",
        "   global base   #function definition\n",
        "   if(num > 0):\n",
        "      findReverse((int)(num/10))\n",
        "      rev += (num % 10) * base\n",
        "      base *= 10\n",
        "   return rev\n",
        "# take inputs\n",
        "num = int(input('Enter the number: '))\n",
        "\n",
        "# calling function and display result\n",
        "print('The reverse number is =', findReverse(num))"
      ]
    },
    {
      "cell_type": "code",
      "source": [
        "#to add two numbers using bitwise operator\n",
        "def add_without_plus_operator(a, b):\n",
        "    while b != 0:\n",
        "        data = a & b\n",
        "        a = a ^ b\n",
        "        b = data << 1\n",
        "    return a\n",
        "print(add_without_plus_operator(2, 10))\n",
        "print(add_without_plus_operator(-20, 10))\n",
        "print(add_without_plus_operator(-10, -20))"
      ],
      "metadata": {
        "colab": {
          "base_uri": "https://localhost:8080/"
        },
        "id": "vbl1HbwfNSCK",
        "outputId": "4926fc32-a000-4180-ddf7-7bb3b2b490dc"
      },
      "execution_count": null,
      "outputs": [
        {
          "output_type": "stream",
          "name": "stdout",
          "text": [
            "12\n",
            "-10\n",
            "-30\n"
          ]
        }
      ]
    },
    {
      "cell_type": "code",
      "source": [
        "#1.\tInput radius finds AREA OF CIRCLE and PERIMETER OF THE CIRCLE.\n",
        "n=float(input(\"enter the radius\"))\n",
        "area=3.14*n*n\n",
        "peri=2*3.14*n\n",
        "print(\"area of circle is\",area)\n",
        "print(\"perimeter of circle\",peri)"
      ],
      "metadata": {
        "colab": {
          "base_uri": "https://localhost:8080/"
        },
        "id": "y_nxspWAVE-7",
        "outputId": "5c541f62-f6de-475f-c6da-100ff7f68594"
      },
      "execution_count": 1,
      "outputs": [
        {
          "output_type": "stream",
          "name": "stdout",
          "text": [
            "enter the radius3\n",
            "area of circle is 28.259999999999998\n",
            "perimeter of circle 18.84\n"
          ]
        }
      ]
    },
    {
      "cell_type": "code",
      "source": [
        "#2.\tInput Kilometer converts to centimeter, meter, and millimeter.\n",
        "n=float(input(\"input kilometer\"))\n",
        "centi=n*100000\n",
        "meter=n*1000\n",
        "mili=n*1000000\n",
        "print(\"centimeter is\",centi)\n",
        "print(\"meter is \",meter)\n",
        "print(\"milimeter is\",mili)"
      ],
      "metadata": {
        "colab": {
          "base_uri": "https://localhost:8080/"
        },
        "id": "jvRUP9rQWUaA",
        "outputId": "470543b5-e5a1-4113-ddf1-b7d0bc474143"
      },
      "execution_count": 2,
      "outputs": [
        {
          "output_type": "stream",
          "name": "stdout",
          "text": [
            "input kilometer3\n",
            "centimeter is 300000.0\n",
            "meter is  3000.0\n",
            "milimeter is 3000000.0\n"
          ]
        }
      ]
    },
    {
      "cell_type": "code",
      "source": [
        "#3.\tInput two numbers find sum without ‘+’operator.\n",
        "n=int(input(\"enter a\"))\n",
        "m=int(input(\"enter b\"))\n",
        "def add_without_plus_operator(n, m):\n",
        "    while m != 0:\n",
        "        data = n & m\n",
        "        n = n ^ m\n",
        "        m = data << 1\n",
        "    return n\n",
        "print(add_without_plus_operator(n, m))"
      ],
      "metadata": {
        "colab": {
          "base_uri": "https://localhost:8080/"
        },
        "id": "qG4IAJWCdh5x",
        "outputId": "20c8a7de-3766-4701-dbc3-b42142950983"
      },
      "execution_count": 4,
      "outputs": [
        {
          "output_type": "stream",
          "name": "stdout",
          "text": [
            "enter a5\n",
            "enter b6\n",
            "11\n"
          ]
        }
      ]
    },
    {
      "cell_type": "code",
      "source": [
        "def add(a, b):\n",
        "    # for loop will start from 1 and move till the value of second number ,\n",
        "    # first number(a) is incremented in for loop\n",
        "    for i in range(1, b + 1):\n",
        "        a = a + 1\n",
        "    return a\n",
        " \n",
        "# driver code\n",
        "# first number is 10 and second number is 32 , for loop\n",
        "# will start from 1 and move till 32 and the value of a\n",
        "# is incremented 32 times which will give us the total\n",
        "# sum of two numbers\n",
        "a = add(10, 32)\n",
        "print(a)\n",
        " "
      ],
      "metadata": {
        "colab": {
          "base_uri": "https://localhost:8080/"
        },
        "id": "Nl0YcZbLfsSg",
        "outputId": "4d2fc00c-b217-4491-e78d-7ef39efa9913"
      },
      "execution_count": 5,
      "outputs": [
        {
          "output_type": "stream",
          "name": "stdout",
          "text": [
            "42\n"
          ]
        }
      ]
    },
    {
      "cell_type": "code",
      "source": [
        "#4.\tInput two numbers find remainder without ‘%’.\n",
        "n=int(input(\"enter the number\"))\n",
        "m=int(input(\"enter the devisor\"))\n",
        "while n >=m:\n",
        "  n=n-m\n",
        "r=n\n",
        "print(\"remainder is\",r)\n"
      ],
      "metadata": {
        "colab": {
          "base_uri": "https://localhost:8080/"
        },
        "id": "_WXE0Somf8Uj",
        "outputId": "b6d1f480-7f28-4b7e-d198-0f46567bea9b"
      },
      "execution_count": 6,
      "outputs": [
        {
          "output_type": "stream",
          "name": "stdout",
          "text": [
            "enter the number12\n",
            "enter the devisor4\n",
            "remainder is 0\n"
          ]
        }
      ]
    },
    {
      "cell_type": "code",
      "source": [
        "#5.\tInput temperature finds Celsius and Fahrenheit and vice-versa.\n",
        "n=float(input(\"enter temprature in celcius\"))\n",
        "m=float(input(\"enter temperature in farehiet\"))\n",
        "far=(n*1.8)+32\n",
        "cel=(m-32)/1.8\n",
        "print(\"temperature in celcius is\",cel)\n",
        "print(\"temperature in farhrenheight is\",far)"
      ],
      "metadata": {
        "colab": {
          "base_uri": "https://localhost:8080/"
        },
        "id": "X4buqgOPiQW1",
        "outputId": "01157ffb-3b04-4aea-e338-04b024c22490"
      },
      "execution_count": 7,
      "outputs": [
        {
          "output_type": "stream",
          "name": "stdout",
          "text": [
            "enter temprature in celcius67\n",
            "enter temperature in farehiet89\n",
            "temperature in celcius is 31.666666666666664\n",
            "temperature in farhrenheight is 152.60000000000002\n"
          ]
        }
      ]
    },
    {
      "cell_type": "code",
      "source": [],
      "metadata": {
        "id": "ubV_1PFimWPh"
      },
      "execution_count": null,
      "outputs": []
    }
  ]
}