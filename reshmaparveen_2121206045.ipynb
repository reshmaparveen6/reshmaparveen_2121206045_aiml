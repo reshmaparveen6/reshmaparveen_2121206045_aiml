{
  "nbformat": 4,
  "nbformat_minor": 0,
  "metadata": {
    "colab": {
      "provenance": [],
      "authorship_tag": "ABX9TyOAEGvMK+88QikZMmLlktOB",
      "include_colab_link": true
    },
    "kernelspec": {
      "name": "python3",
      "display_name": "Python 3"
    },
    "language_info": {
      "name": "python"
    }
  },
  "cells": [
    {
      "cell_type": "markdown",
      "metadata": {
        "id": "view-in-github",
        "colab_type": "text"
      },
      "source": [
        "<a href=\"https://colab.research.google.com/github/reshmaparveen6/reshmaparveen_2121206045_aiml/blob/main/reshmaparveen_2121206045.ipynb\" target=\"_parent\"><img src=\"https://colab.research.google.com/assets/colab-badge.svg\" alt=\"Open In Colab\"/></a>"
      ]
    },
    {
      "cell_type": "code",
      "execution_count": 1,
      "metadata": {
        "colab": {
          "base_uri": "https://localhost:8080/"
        },
        "id": "twnoSqG5-hJa",
        "outputId": "997ae9b3-0097-439d-e236-a315f2342f0b"
      },
      "outputs": [
        {
          "output_type": "stream",
          "name": "stdout",
          "text": [
            "Enter the number: 43\n",
            "The reverse number is = 34\n"
          ]
        }
      ],
      "source": [
        "#to find the reverse of a number only by using arithmetic operators\n",
        "rev = 0\n",
        "base = 1\n",
        "def findReverse(num):\n",
        "   global rev #function definition\n",
        "   global base   #function definition\n",
        "   if(num > 0):\n",
        "      findReverse((int)(num/10))\n",
        "      rev += (num % 10) * base\n",
        "      base *= 10\n",
        "   return rev\n",
        "# take inputs\n",
        "num = int(input('Enter the number: '))\n",
        "\n",
        "# calling function and display result\n",
        "print('The reverse number is =', findReverse(num))"
      ]
    },
    {
      "cell_type": "code",
      "source": [
        "#to add two numbers using bitwise operator\n",
        "def add_without_plus_operator(a, b):\n",
        "    while b != 0:\n",
        "        data = a & b\n",
        "        a = a ^ b\n",
        "        b = data << 1\n",
        "    return a\n",
        "print(add_without_plus_operator(2, 10))\n",
        "print(add_without_plus_operator(-20, 10))\n",
        "print(add_without_plus_operator(-10, -20))"
      ],
      "metadata": {
        "colab": {
          "base_uri": "https://localhost:8080/"
        },
        "id": "vbl1HbwfNSCK",
        "outputId": "4926fc32-a000-4180-ddf7-7bb3b2b490dc"
      },
      "execution_count": 3,
      "outputs": [
        {
          "output_type": "stream",
          "name": "stdout",
          "text": [
            "12\n",
            "-10\n",
            "-30\n"
          ]
        }
      ]
    }
  ]
}