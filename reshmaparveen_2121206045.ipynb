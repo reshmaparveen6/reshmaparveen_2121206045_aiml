{
  "nbformat": 4,
  "nbformat_minor": 0,
  "metadata": {
    "colab": {
      "provenance": [],
      "authorship_tag": "ABX9TyPDzrT48sMOUL/AbZsGg/OK",
      "include_colab_link": true
    },
    "kernelspec": {
      "name": "python3",
      "display_name": "Python 3"
    },
    "language_info": {
      "name": "python"
    }
  },
  "cells": [
    {
      "cell_type": "markdown",
      "metadata": {
        "id": "view-in-github",
        "colab_type": "text"
      },
      "source": [
        "<a href=\"https://colab.research.google.com/github/reshmaparveen6/reshmaparveen_2121206045_aiml/blob/main/reshmaparveen_2121206045.ipynb\" target=\"_parent\"><img src=\"https://colab.research.google.com/assets/colab-badge.svg\" alt=\"Open In Colab\"/></a>"
      ]
    },
    {
      "cell_type": "code",
      "execution_count": null,
      "metadata": {
        "colab": {
          "base_uri": "https://localhost:8080/"
        },
        "id": "twnoSqG5-hJa",
        "outputId": "997ae9b3-0097-439d-e236-a315f2342f0b"
      },
      "outputs": [
        {
          "output_type": "stream",
          "name": "stdout",
          "text": [
            "Enter the number: 43\n",
            "The reverse number is = 34\n"
          ]
        }
      ],
      "source": [
        "#to find the reverse of a number only by using arithmetic operators\n",
        "rev = 0\n",
        "base = 1\n",
        "def findReverse(num):\n",
        "   global rev #function definition\n",
        "   global base   #function definition\n",
        "   if(num > 0):\n",
        "      findReverse((int)(num/10))\n",
        "      rev += (num % 10) * base\n",
        "      base *= 10\n",
        "   return rev\n",
        "# take inputs\n",
        "num = int(input('Enter the number: '))\n",
        "\n",
        "# calling function and display result\n",
        "print('The reverse number is =', findReverse(num))"
      ]
    },
    {
      "cell_type": "code",
      "source": [
        "#to add two numbers using bitwise operator\n",
        "def add_without_plus_operator(a, b):\n",
        "    while b != 0:\n",
        "        data = a & b\n",
        "        a = a ^ b\n",
        "        b = data << 1\n",
        "    return a\n",
        "print(add_without_plus_operator(2, 10))\n",
        "print(add_without_plus_operator(-20, 10))\n",
        "print(add_without_plus_operator(-10, -20))"
      ],
      "metadata": {
        "colab": {
          "base_uri": "https://localhost:8080/"
        },
        "id": "vbl1HbwfNSCK",
        "outputId": "4926fc32-a000-4180-ddf7-7bb3b2b490dc"
      },
      "execution_count": null,
      "outputs": [
        {
          "output_type": "stream",
          "name": "stdout",
          "text": [
            "12\n",
            "-10\n",
            "-30\n"
          ]
        }
      ]
    },
    {
      "cell_type": "code",
      "source": [
        "#1.\tInput radius finds AREA OF CIRCLE and PERIMETER OF THE CIRCLE.\n",
        "n=float(input(\"enter the radius\"))\n",
        "area=3.14*n*n\n",
        "peri=2*3.14*n\n",
        "print(\"area of circle is\",area)\n",
        "print(\"perimeter of circle\",peri)"
      ],
      "metadata": {
        "colab": {
          "base_uri": "https://localhost:8080/"
        },
        "id": "y_nxspWAVE-7",
        "outputId": "5c541f62-f6de-475f-c6da-100ff7f68594"
      },
      "execution_count": null,
      "outputs": [
        {
          "output_type": "stream",
          "name": "stdout",
          "text": [
            "enter the radius3\n",
            "area of circle is 28.259999999999998\n",
            "perimeter of circle 18.84\n"
          ]
        }
      ]
    },
    {
      "cell_type": "code",
      "source": [
        "#2.\tInput Kilometer converts to centimeter, meter, and millimeter.\n",
        "n=float(input(\"input kilometer\"))\n",
        "centi=n*100000\n",
        "meter=n*1000\n",
        "mili=n*1000000\n",
        "print(\"centimeter is\",centi)\n",
        "print(\"meter is \",meter)\n",
        "print(\"milimeter is\",mili)"
      ],
      "metadata": {
        "colab": {
          "base_uri": "https://localhost:8080/"
        },
        "id": "jvRUP9rQWUaA",
        "outputId": "470543b5-e5a1-4113-ddf1-b7d0bc474143"
      },
      "execution_count": null,
      "outputs": [
        {
          "output_type": "stream",
          "name": "stdout",
          "text": [
            "input kilometer3\n",
            "centimeter is 300000.0\n",
            "meter is  3000.0\n",
            "milimeter is 3000000.0\n"
          ]
        }
      ]
    },
    {
      "cell_type": "code",
      "source": [
        "#3.\tInput two numbers find sum without ‘+’operator.\n",
        "n=int(input(\"enter a\"))\n",
        "m=int(input(\"enter b\"))\n",
        "def add_without_plus_operator(n, m):\n",
        "    while m != 0:\n",
        "        data = n & m\n",
        "        n = n ^ m\n",
        "        m = data << 1\n",
        "    return n\n",
        "print(add_without_plus_operator(n, m))"
      ],
      "metadata": {
        "colab": {
          "base_uri": "https://localhost:8080/"
        },
        "id": "qG4IAJWCdh5x",
        "outputId": "20c8a7de-3766-4701-dbc3-b42142950983"
      },
      "execution_count": null,
      "outputs": [
        {
          "output_type": "stream",
          "name": "stdout",
          "text": [
            "enter a5\n",
            "enter b6\n",
            "11\n"
          ]
        }
      ]
    },
    {
      "cell_type": "code",
      "source": [
        "def add(a, b):\n",
        "    # for loop will start from 1 and move till the value of second number ,\n",
        "    # first number(a) is incremented in for loop\n",
        "    for i in range(1, b + 1):\n",
        "        a = a + 1\n",
        "    return a\n",
        " \n",
        "# driver code\n",
        "# first number is 10 and second number is 32 , for loop\n",
        "# will start from 1 and move till 32 and the value of a\n",
        "# is incremented 32 times which will give us the total\n",
        "# sum of two numbers\n",
        "a = add(10, 32)\n",
        "print(a)\n",
        " "
      ],
      "metadata": {
        "colab": {
          "base_uri": "https://localhost:8080/"
        },
        "id": "Nl0YcZbLfsSg",
        "outputId": "4d2fc00c-b217-4491-e78d-7ef39efa9913"
      },
      "execution_count": null,
      "outputs": [
        {
          "output_type": "stream",
          "name": "stdout",
          "text": [
            "42\n"
          ]
        }
      ]
    },
    {
      "cell_type": "code",
      "source": [
        "#4.\tInput two numbers find remainder without ‘%’.\n",
        "n=int(input(\"enter the number\"))\n",
        "m=int(input(\"enter the devisor\"))\n",
        "while n >=m:\n",
        "  n=n-m\n",
        "r=n\n",
        "print(\"remainder is\",r)\n"
      ],
      "metadata": {
        "colab": {
          "base_uri": "https://localhost:8080/"
        },
        "id": "_WXE0Somf8Uj",
        "outputId": "b6d1f480-7f28-4b7e-d198-0f46567bea9b"
      },
      "execution_count": null,
      "outputs": [
        {
          "output_type": "stream",
          "name": "stdout",
          "text": [
            "enter the number12\n",
            "enter the devisor4\n",
            "remainder is 0\n"
          ]
        }
      ]
    },
    {
      "cell_type": "code",
      "source": [
        "#5.\tInput temperature finds Celsius and Fahrenheit and vice-versa.\n",
        "n=float(input(\"enter temprature in celcius\"))\n",
        "m=float(input(\"enter temperature in farehiet\"))\n",
        "far=(n*1.8)+32\n",
        "cel=(m-32)/1.8\n",
        "print(\"temperature in celcius is\",cel)\n",
        "print(\"temperature in farhrenheight is\",far)"
      ],
      "metadata": {
        "colab": {
          "base_uri": "https://localhost:8080/"
        },
        "id": "X4buqgOPiQW1",
        "outputId": "01157ffb-3b04-4aea-e338-04b024c22490"
      },
      "execution_count": null,
      "outputs": [
        {
          "output_type": "stream",
          "name": "stdout",
          "text": [
            "enter temprature in celcius67\n",
            "enter temperature in farehiet89\n",
            "temperature in celcius is 31.666666666666664\n",
            "temperature in farhrenheight is 152.60000000000002\n"
          ]
        }
      ]
    },
    {
      "cell_type": "code",
      "source": [
        "#. A company decided to give bonus of 5% to employee if his/her year of service is more than 5 years.\n",
        "# Ask user for their salary and year of service and print the net bonus amount.\n",
        "n=int(input(\"enter the salary\"))\n",
        "m=int(input(\"enter the year of service\"))\n",
        "if m>5:\n",
        "  print(\"bonus is\",0.05*n)\n",
        "else:\n",
        "  print(\"no bonus\")"
      ],
      "metadata": {
        "colab": {
          "base_uri": "https://localhost:8080/"
        },
        "id": "ubV_1PFimWPh",
        "outputId": "7814b582-84bd-42b3-a274-f88e82b003e4"
      },
      "execution_count": null,
      "outputs": [
        {
          "output_type": "stream",
          "name": "stdout",
          "text": [
            "enter the salary6000\n",
            "enter the year of service8\n",
            "bonus is 300.0\n"
          ]
        }
      ]
    },
    {
      "cell_type": "code",
      "source": [
        "#Take values of length and breadth of a rectangle from user and check if it is square or not.\n",
        "n=int(input(\"enter the length\"))\n",
        "m=int(input(\"enter the breadth\"))\n",
        "if n==m:\n",
        "  print(\"Its a square\")\n",
        "else:\n",
        "  print(\"Its not a square\")"
      ],
      "metadata": {
        "colab": {
          "base_uri": "https://localhost:8080/"
        },
        "id": "1p-gYyotsy1O",
        "outputId": "f2afe880-0c48-4c38-8da4-4a20c452a073"
      },
      "execution_count": null,
      "outputs": [
        {
          "output_type": "stream",
          "name": "stdout",
          "text": [
            "enter the length4\n",
            "enter the breadth4\n",
            "Its a square\n"
          ]
        }
      ]
    },
    {
      "cell_type": "code",
      "source": [
        "#Take two int values from user and print greatest among them.\n",
        "n=int(input(\"enter number one\"))\n",
        "m=int(input(\"enter number two\"))\n",
        "if n>m:\n",
        "  print(\"greater is\",n)\n",
        "else:\n",
        "  print(\"smaller is\",m)"
      ],
      "metadata": {
        "colab": {
          "base_uri": "https://localhost:8080/"
        },
        "id": "rTa528bxv9PU",
        "outputId": "c3c44684-3604-4b26-fe61-c606b3ef8999"
      },
      "execution_count": null,
      "outputs": [
        {
          "output_type": "stream",
          "name": "stdout",
          "text": [
            "enter number one6\n",
            "enter number two5\n",
            "greater is 6\n"
          ]
        }
      ]
    },
    {
      "cell_type": "code",
      "source": [
        "#A shop will give discount of 10% if the cost of purchased quantity is more than 1000.\n",
        "n=int(input(\"enter the purchased cost\"))\n",
        "if n>1000:\n",
        "  print(\"10% discount will be given and the cost after discount is\",n-(0.10*n))\n",
        "else:\n",
        "  print(\"no discount\")"
      ],
      "metadata": {
        "colab": {
          "base_uri": "https://localhost:8080/"
        },
        "id": "fLY8O0pbxQ2R",
        "outputId": "683dce9e-0cf0-4dcd-d9ab-8ad9c0531259"
      },
      "execution_count": null,
      "outputs": [
        {
          "output_type": "stream",
          "name": "stdout",
          "text": [
            "enter the purchased cost1200\n",
            "10% discount will be given and the cost after discount is 1080.0\n"
          ]
        }
      ]
    },
    {
      "cell_type": "code",
      "source": [
        "#A school has following rules for grading system:\n",
        "#a. Below 25 - F\n",
        "#b. 25 to 45 - E\n",
        "#c. 45 to 50 - D\n",
        "#d. 50 to 60 - C\n",
        "#e. 60 to 80 - B\n",
        "#f. Above 80 - A\n",
        "#Ask user to enter marks and print the corresponding grade.\n",
        "mark=int(input(\"enter the marks\"))\n",
        "if mark>80:\n",
        "  print(\"Grade is A\")\n",
        "elif mark>60:\n",
        "  print(\"Grade is B\")\n",
        "elif mark>50:\n",
        "  print(\"Grade is C\")\n",
        "elif mark>45:\n",
        "  print(\"Grade is D\")\n",
        "elif mark>25:\n",
        "  print(\"Grade is F\")\n",
        "else:\n",
        "  print(\"Grade is F\")\n"
      ],
      "metadata": {
        "colab": {
          "base_uri": "https://localhost:8080/"
        },
        "id": "2tSegKgYzoUS",
        "outputId": "183d9a14-ce65-497c-cd9b-34761031e1fa"
      },
      "execution_count": null,
      "outputs": [
        {
          "output_type": "stream",
          "name": "stdout",
          "text": [
            "enter the marks65\n",
            "Grade is B\n"
          ]
        }
      ]
    },
    {
      "cell_type": "code",
      "source": [
        "from traitlets import observe\n",
        "#Take input of age of 3 people by user and determine oldest and youngest among them.\n",
        "m=int(input(\"enter first person age\"))\n",
        "n=int(input(\"enter second person age\"))\n",
        "o=int(input(\"enter third person age\"))\n",
        "if m>n and m>o:\n",
        "  print(\"First person is oldest\",m)\n",
        "elif n>m and n>o:\n",
        "  print(\"second person is oldest\",n)\n",
        "else:\n",
        "  print(\"Third is the oldest\",o)"
      ],
      "metadata": {
        "colab": {
          "base_uri": "https://localhost:8080/"
        },
        "id": "yli4mFGVaE0x",
        "outputId": "74b83e4a-bd08-4238-f9f5-566dc2eb266a"
      },
      "execution_count": null,
      "outputs": [
        {
          "output_type": "stream",
          "name": "stdout",
          "text": [
            "enter first person age67\n",
            "enter second person age88\n",
            "enter third person age100\n",
            "Third is the oldest 100\n"
          ]
        }
      ]
    },
    {
      "cell_type": "code",
      "source": [
        "#Write a program to print absolute vlaue of a number entered by user. E.g.-\n",
        "#INPUT: 1        OUTPUT: 1\n",
        "#INPUT: -1       OUTPUT: 1\n",
        "n=int(input(\"enter a value\"))\n",
        "if n>0:\n",
        "  print(n)\n",
        "else:\n",
        "  n=-1*n\n",
        "  print(n)\n"
      ],
      "metadata": {
        "colab": {
          "base_uri": "https://localhost:8080/"
        },
        "id": "WDyXtBY6bWPS",
        "outputId": "34f59491-3a2f-4cfa-ac49-4b43cb567b41"
      },
      "execution_count": null,
      "outputs": [
        {
          "output_type": "stream",
          "name": "stdout",
          "text": [
            "enter a value5\n",
            "5\n"
          ]
        }
      ]
    },
    {
      "cell_type": "code",
      "source": [
        "#A student will not be allowed to sit in exam if his/her attendence is less than 75%.\n",
        "#Take following input from user\n",
        "#Number of classes held\n",
        "#Number of classes attended.\n",
        "#And print\n",
        "#percentage of class attended\n",
        "#Is student is allowed to sit in exam or not\n",
        "n=int(input(\"enter the number of classes held\"))\n",
        "m=int(input(\"enter the number of classes attened\"))\n",
        "p=m/n*100\n",
        "print(\"The percentage is \",p)\n",
        "if p>75:\n",
        "  print(\"Student may sit for exam\")\n",
        "else:\n",
        "  print(\"student cannot sit for exam\")"
      ],
      "metadata": {
        "colab": {
          "base_uri": "https://localhost:8080/"
        },
        "id": "4xNZDwwscqVh",
        "outputId": "3936614e-ca2b-4840-8238-240cec2c965f"
      },
      "execution_count": null,
      "outputs": [
        {
          "output_type": "stream",
          "name": "stdout",
          "text": [
            "enter the number of classes held100\n",
            "enter the number of classes attened60\n",
            "The percentage is  60.0\n",
            "student cannot sit for exam\n"
          ]
        }
      ]
    },
    {
      "cell_type": "code",
      "source": [
        "#Write a python program that will check for the following conditions:\n",
        "#If the light is green – Car is allowed to go\n",
        "#If the light is yellow – Car has to wait\n",
        "#If the light is red – Car has to stop\n",
        "signal=input(\"Enter the color of the signal\")\n",
        "if signal==\"red\":\n",
        "  print(\"car has to stop\")\n",
        "elif signal==\"yellow\":\n",
        "  print(\"car has to wait\")\n",
        "else:\n",
        "  print(\"car can go\")"
      ],
      "metadata": {
        "colab": {
          "base_uri": "https://localhost:8080/"
        },
        "id": "od9v9ffQdvot",
        "outputId": "4f3dfc4f-8152-4cf7-8d55-00013065fa58"
      },
      "execution_count": null,
      "outputs": [
        {
          "output_type": "stream",
          "name": "stdout",
          "text": [
            "Enter the color of the signalgreen\n",
            "car can go\n"
          ]
        }
      ]
    },
    {
      "cell_type": "code",
      "source": [],
      "metadata": {
        "id": "1sqIeXcufhOX"
      },
      "execution_count": null,
      "outputs": []
    }
  ]
}